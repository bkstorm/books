{
 "cells": [
  {
   "cell_type": "code",
   "execution_count": 1,
   "metadata": {},
   "outputs": [],
   "source": [
    "import swimclub"
   ]
  },
  {
   "cell_type": "code",
   "execution_count": 2,
   "metadata": {},
   "outputs": [
    {
     "data": {
      "text/plain": [
       "('Darius',\n",
       " '13',\n",
       " '100m',\n",
       " 'Fly',\n",
       " ['1:27.95', '1:21.07', '1:30.96', '1:23.22', '1:27.95', '1:28.30'],\n",
       " '1:26.58')"
      ]
     },
     "execution_count": 2,
     "metadata": {},
     "output_type": "execute_result"
    }
   ],
   "source": [
    "swimclub.read_swim_data(\"Darius-13-100m-Fly.txt\")"
   ]
  },
  {
   "cell_type": "code",
   "execution_count": 3,
   "metadata": {},
   "outputs": [
    {
     "name": "stdout",
     "output_type": "stream",
     "text": [
      "['1:27.95', '1:21.07', '1:30.96', '1:23.22', '1:27.95', '1:28.30']\n"
     ]
    }
   ],
   "source": [
    "data = swimclub.read_swim_data(\"Darius-13-100m-Fly.txt\")\n",
    "times = data[4]\n",
    "print(times)"
   ]
  },
  {
   "cell_type": "code",
   "execution_count": 4,
   "metadata": {},
   "outputs": [
    {
     "name": "stdout",
     "output_type": "stream",
     "text": [
      "['1:27.95', '1:21.07', '1:30.96', '1:23.22', '1:27.95', '1:28.30']\n"
     ]
    }
   ],
   "source": [
    "swimmer, age, distance, stroke, times2, average = data\n",
    "print(times2)"
   ]
  },
  {
   "cell_type": "code",
   "execution_count": 5,
   "metadata": {},
   "outputs": [],
   "source": [
    "import os"
   ]
  },
  {
   "cell_type": "code",
   "execution_count": 6,
   "metadata": {},
   "outputs": [],
   "source": [
    "swim_files = os.listdir(swimclub.FOLDER)"
   ]
  },
  {
   "cell_type": "code",
   "execution_count": 7,
   "metadata": {},
   "outputs": [
    {
     "data": {
      "text/plain": [
       "61"
      ]
     },
     "execution_count": 7,
     "metadata": {},
     "output_type": "execute_result"
    }
   ],
   "source": [
    "len(swim_files)"
   ]
  },
  {
   "cell_type": "code",
   "execution_count": 8,
   "metadata": {},
   "outputs": [
    {
     "name": "stdout",
     "output_type": "stream",
     "text": [
      "['.DS_Store', 'Abi-10-100m-Back.txt', 'Abi-10-100m-Breast.txt', 'Abi-10-50m-Back.txt', 'Abi-10-50m-Breast.txt', 'Abi-10-50m-Free.txt', 'Ali-12-100m-Back.txt', 'Ali-12-100m-Free.txt', 'Alison-14-100m-Breast.txt', 'Alison-14-100m-Free.txt', 'Aurora-13-50m-Free.txt', 'Bill-18-100m-Back.txt', 'Bill-18-200m-Back.txt', 'Blake-15-100m-Back.txt', 'Blake-15-100m-Fly.txt', 'Blake-15-100m-Free.txt', 'Calvin-9-50m-Back.txt', 'Calvin-9-50m-Fly.txt', 'Calvin-9-50m-Free.txt', 'Carl-15-100m-Back.txt', 'Chris-17-100m-Back.txt', 'Chris-17-100m-Breast.txt', 'Darius-13-100m-Back.txt', 'Darius-13-100m-Breast.txt', 'Darius-13-100m-Fly.txt', 'Darius-13-200m-IM.txt', 'Dave-17-100m-Free.txt', 'Dave-17-200m-Back.txt', 'Elba-14-100m-Free.txt', 'Emma-13-100m-Breast.txt', 'Emma-13-100m-Free.txt', 'Erika-15-100m-Breast.txt', 'Erika-15-100m-Free.txt', 'Erika-15-200m-Breast.txt', 'Hannah-13-100m-Back.txt', 'Hannah-13-100m-Free.txt', 'Katie-9-100m-Back.txt', 'Katie-9-100m-Breast.txt', 'Katie-9-100m-Free.txt', 'Katie-9-50m-Back.txt', 'Katie-9-50m-Breast.txt', 'Katie-9-50m-Fly.txt', 'Katie-9-50m-Free.txt', 'Lizzie-14-100m-Back.txt', 'Lizzie-14-100m-Free.txt', 'Maria-9-50m-Free.txt', 'Mike-15-100m-Back.txt', 'Mike-15-100m-Fly.txt', 'Mike-15-100m-Free.txt', 'Mike-15-200m-Free.txt', 'Mike-15-200m-IM.txt', 'Owen-15-100m-Free.txt', 'Ruth-13-100m-Back.txt', 'Ruth-13-100m-Free.txt', 'Ruth-13-200m-Back.txt', 'Ruth-13-200m-Free.txt', 'Ruth-13-400m-Free.txt', 'Tasmin-15-100m-Back.txt', 'Tasmin-15-100m-Breast.txt', 'Tasmin-15-100m-Free.txt', 'Tasmin-15-200m-Breast.txt']\n"
     ]
    }
   ],
   "source": [
    "print(sorted(swim_files))"
   ]
  },
  {
   "cell_type": "code",
   "execution_count": 9,
   "metadata": {},
   "outputs": [
    {
     "name": "stdout",
     "output_type": "stream",
     "text": [
      "Help on method_descriptor:\n",
      "\n",
      "remove(self, value, /)\n",
      "    Remove first occurrence of value.\n",
      "    \n",
      "    Raises ValueError if the value is not present.\n",
      "\n"
     ]
    }
   ],
   "source": [
    "help(list.remove)"
   ]
  },
  {
   "cell_type": "code",
   "execution_count": 10,
   "metadata": {},
   "outputs": [],
   "source": [
    "swim_files.remove(\".DS_Store\")"
   ]
  },
  {
   "cell_type": "code",
   "execution_count": 11,
   "metadata": {},
   "outputs": [
    {
     "data": {
      "text/plain": [
       "60"
      ]
     },
     "execution_count": 11,
     "metadata": {},
     "output_type": "execute_result"
    }
   ],
   "source": [
    "len(swim_files)"
   ]
  },
  {
   "cell_type": "code",
   "execution_count": 12,
   "metadata": {},
   "outputs": [
    {
     "name": "stdout",
     "output_type": "stream",
     "text": [
      "Processing: Hannah-13-100m-Free.txt\n",
      "Processing: Darius-13-100m-Back.txt\n",
      "Processing: Owen-15-100m-Free.txt\n",
      "Processing: Mike-15-100m-Free.txt\n",
      "Processing: Hannah-13-100m-Back.txt\n",
      "Processing: Mike-15-100m-Back.txt\n",
      "Processing: Mike-15-100m-Fly.txt\n",
      "Processing: Abi-10-50m-Back.txt\n",
      "Processing: Ruth-13-200m-Free.txt\n",
      "Processing: Tasmin-15-100m-Back.txt\n",
      "Processing: Erika-15-100m-Free.txt\n",
      "Processing: Ruth-13-200m-Back.txt\n",
      "Processing: Abi-10-50m-Free.txt\n",
      "Processing: Maria-9-50m-Free.txt\n",
      "Processing: Elba-14-100m-Free.txt\n",
      "Processing: Tasmin-15-100m-Free.txt\n",
      "Processing: Abi-10-100m-Back.txt\n",
      "Processing: Abi-10-50m-Breast.txt\n",
      "Processing: Mike-15-200m-IM.txt\n",
      "Processing: Ali-12-100m-Back.txt\n",
      "Processing: Ruth-13-100m-Back.txt\n",
      "Processing: Chris-17-100m-Back.txt\n",
      "Processing: Ali-12-100m-Free.txt\n",
      "Processing: Darius-13-100m-Breast.txt\n",
      "Processing: Ruth-13-100m-Free.txt\n",
      "Processing: Aurora-13-50m-Free.txt\n",
      "Processing: Katie-9-100m-Breast.txt\n",
      "Processing: Alison-14-100m-Breast.txt\n",
      "Processing: Ruth-13-400m-Free.txt\n",
      "Processing: Emma-13-100m-Free.txt\n",
      "Processing: Calvin-9-50m-Fly.txt\n",
      "Processing: Darius-13-100m-Fly.txt\n",
      "Processing: Mike-15-200m-Free.txt\n",
      "Processing: Emma-13-100m-Breast.txt\n",
      "Processing: Tasmin-15-100m-Breast.txt\n",
      "Processing: Blake-15-100m-Free.txt\n",
      "Processing: Abi-10-100m-Breast.txt\n",
      "Processing: Chris-17-100m-Breast.txt\n",
      "Processing: Blake-15-100m-Back.txt\n",
      "Processing: Bill-18-200m-Back.txt\n",
      "Processing: Darius-13-200m-IM.txt\n",
      "Processing: Dave-17-100m-Free.txt\n",
      "Processing: Alison-14-100m-Free.txt\n",
      "Processing: Lizzie-14-100m-Free.txt\n",
      "Processing: Katie-9-50m-Fly.txt\n",
      "Processing: Katie-9-50m-Breast.txt\n",
      "Processing: Katie-9-50m-Back.txt\n",
      "Processing: Lizzie-14-100m-Back.txt\n",
      "Processing: Tasmin-15-200m-Breast.txt\n",
      "Processing: Katie-9-50m-Free.txt\n",
      "Processing: Dave-17-200m-Back.txt\n",
      "Processing: Erika-15-200m-Breast.txt\n",
      "Processing: Calvin-9-50m-Back.txt\n",
      "Processing: Calvin-9-50m-Free.txt\n",
      "Processing: Carl-15-100m-Back.txt\n",
      "Processing: Bill-18-100m-Back.txt\n",
      "Processing: Katie-9-100m-Free.txt\n",
      "Processing: Blake-15-100m-Fly.txt\n",
      "Processing: Erika-15-100m-Breast.txt\n",
      "Processing: Katie-9-100m-Back.txt\n"
     ]
    }
   ],
   "source": [
    "for n, s in enumerate(swim_files, 1):\n",
    "    print(n, \"Processing:\", s)\n",
    "    swimclub.read_swim_data(s)"
   ]
  },
  {
   "cell_type": "code",
   "execution_count": null,
   "metadata": {},
   "outputs": [],
   "source": []
  }
 ],
 "metadata": {
  "kernelspec": {
   "display_name": "Python 3",
   "language": "python",
   "name": "python3"
  },
  "language_info": {
   "codemirror_mode": {
    "name": "ipython",
    "version": 3
   },
   "file_extension": ".py",
   "mimetype": "text/x-python",
   "name": "python",
   "nbconvert_exporter": "python",
   "pygments_lexer": "ipython3",
   "version": "3.11.6"
  }
 },
 "nbformat": 4,
 "nbformat_minor": 2
}
