{
 "cells": [
  {
   "cell_type": "code",
   "execution_count": 1,
   "metadata": {},
   "outputs": [
    {
     "name": "stdout",
     "output_type": "stream",
     "text": [
      "Requirement already satisfied: gazpacho in /usr/local/lib/python3.11/site-packages (1.1)\n",
      "\n",
      "\u001b[1m[\u001b[0m\u001b[34;49mnotice\u001b[0m\u001b[1;39;49m]\u001b[0m\u001b[39;49m A new release of pip is available: \u001b[0m\u001b[31;49m23.3.1\u001b[0m\u001b[39;49m -> \u001b[0m\u001b[32;49m23.3.2\u001b[0m\n",
      "\u001b[1m[\u001b[0m\u001b[34;49mnotice\u001b[0m\u001b[1;39;49m]\u001b[0m\u001b[39;49m To update, run: \u001b[0m\u001b[32;49mpython3.11 -m pip install --upgrade pip\u001b[0m\n",
      "Note: you may need to restart the kernel to use updated packages.\n"
     ]
    }
   ],
   "source": [
    "%pip install gazpacho --upgrade"
   ]
  },
  {
   "cell_type": "code",
   "execution_count": 2,
   "metadata": {},
   "outputs": [],
   "source": [
    "ULR = \"https://en.wikipedia.org/wiki/List_of_world_records_in_swimming\""
   ]
  },
  {
   "cell_type": "code",
   "execution_count": 3,
   "metadata": {},
   "outputs": [],
   "source": [
    "import gazpacho\n",
    "\n",
    "html = gazpacho.get(ULR)"
   ]
  },
  {
   "cell_type": "code",
   "execution_count": 4,
   "metadata": {},
   "outputs": [
    {
     "data": {
      "text/plain": [
       "551578"
      ]
     },
     "execution_count": 4,
     "metadata": {},
     "output_type": "execute_result"
    }
   ],
   "source": [
    "len(html)"
   ]
  },
  {
   "cell_type": "code",
   "execution_count": 12,
   "metadata": {},
   "outputs": [
    {
     "data": {
      "text/plain": [
       "'<!DOCTYPE html>\\n<html class=\"client-nojs vector-feature-language-in-header-enabled vector-feature-language-in-main-page-header-disabled vector-feature-sticky-header-disabled vector-feature-page-tools-pinned-disabled vector-feature-toc-pinned-clientpref-1 vector-feature-main-menu-pinned-disabled vector-feature-limited-width-clientpref-1 vector-feature-limited-width-content-enabled vector-feature-zebra-design-enabled vector-feature-custom-font-size-clientpref-0 vector-feature-client-preferences-di'"
      ]
     },
     "execution_count": 12,
     "metadata": {},
     "output_type": "execute_result"
    }
   ],
   "source": [
    "html[:500]"
   ]
  },
  {
   "cell_type": "code",
   "execution_count": 11,
   "metadata": {},
   "outputs": [
    {
     "data": {
      "text/plain": [
       "'<table class=\"wikitable sortable\" style=\"font-size: 95%;\">\\n<caption>\\n</caption>\\n<tbody><tr>\\n<th>Event\\n</th>\\n<th style=\"width:4em\" class=\"unsortable\">Time\\n</th>\\n<th class=\"unsortable\">\\n</th>\\n<th>Name</th>\\n<th>Nationality</th>\\n<th>Date</th>\\n<th>Meet</th>\\n<th>Location\\n</th>\\n<th style=\"width:2em\" class=\"unsortable\">Ref\\n</th></tr>\\n\\n<tr>\\n<td><span data-sort-value=\"01 &#160;!\"> <a href=\"/wiki/World_record_progression_50_metres_freestyle\" title=\"World record progression 50 metres freestyle\">50m freestyl'"
      ]
     },
     "execution_count": 11,
     "metadata": {},
     "output_type": "execute_result"
    }
   ],
   "source": [
    "first_table_index = html.find(\"<table\")\n",
    "html[first_table_index:first_table_index + 500]"
   ]
  },
  {
   "cell_type": "code",
   "execution_count": 13,
   "metadata": {},
   "outputs": [],
   "source": [
    "soup = gazpacho.Soup(html)"
   ]
  },
  {
   "cell_type": "code",
   "execution_count": 14,
   "metadata": {},
   "outputs": [
    {
     "data": {
      "text/plain": [
       "gazpacho.soup.Soup"
      ]
     },
     "execution_count": 14,
     "metadata": {},
     "output_type": "execute_result"
    }
   ],
   "source": [
    "type(soup)"
   ]
  },
  {
   "cell_type": "code",
   "execution_count": 15,
   "metadata": {},
   "outputs": [
    {
     "name": "stdout",
     "output_type": "stream",
     "text": [
      "['attrs', 'find', 'get', 'html', 'strip', 'tag', 'text']\n"
     ]
    }
   ],
   "source": [
    "print(dir(soup))"
   ]
  },
  {
   "cell_type": "code",
   "execution_count": 16,
   "metadata": {},
   "outputs": [],
   "source": [
    "tables = soup.find(\"table\")"
   ]
  },
  {
   "cell_type": "code",
   "execution_count": 17,
   "metadata": {},
   "outputs": [
    {
     "data": {
      "text/plain": [
       "list"
      ]
     },
     "execution_count": 17,
     "metadata": {},
     "output_type": "execute_result"
    }
   ],
   "source": [
    "type(tables)"
   ]
  },
  {
   "cell_type": "code",
   "execution_count": 18,
   "metadata": {},
   "outputs": [
    {
     "data": {
      "text/plain": [
       "12"
      ]
     },
     "execution_count": 18,
     "metadata": {},
     "output_type": "execute_result"
    }
   ],
   "source": [
    "len(tables)"
   ]
  },
  {
   "cell_type": "code",
   "execution_count": 19,
   "metadata": {},
   "outputs": [
    {
     "data": {
      "text/plain": [
       "gazpacho.soup.Soup"
      ]
     },
     "execution_count": 19,
     "metadata": {},
     "output_type": "execute_result"
    }
   ],
   "source": [
    "type(tables[0])"
   ]
  },
  {
   "cell_type": "code",
   "execution_count": 20,
   "metadata": {},
   "outputs": [
    {
     "data": {
      "text/plain": [
       "gazpacho.soup.Soup"
      ]
     },
     "execution_count": 20,
     "metadata": {},
     "output_type": "execute_result"
    }
   ],
   "source": [
    "type(tables[-1])"
   ]
  },
  {
   "cell_type": "code",
   "execution_count": 21,
   "metadata": {},
   "outputs": [],
   "source": [
    "rows = tables[0].find(\"tr\", mode=\"all\")"
   ]
  },
  {
   "cell_type": "code",
   "execution_count": 22,
   "metadata": {},
   "outputs": [
    {
     "data": {
      "text/plain": [
       "list"
      ]
     },
     "execution_count": 22,
     "metadata": {},
     "output_type": "execute_result"
    }
   ],
   "source": [
    "type(rows)"
   ]
  },
  {
   "cell_type": "code",
   "execution_count": 23,
   "metadata": {},
   "outputs": [
    {
     "data": {
      "text/plain": [
       "21"
      ]
     },
     "execution_count": 23,
     "metadata": {},
     "output_type": "execute_result"
    }
   ],
   "source": [
    "len(rows)"
   ]
  },
  {
   "cell_type": "code",
   "execution_count": 24,
   "metadata": {},
   "outputs": [
    {
     "data": {
      "text/plain": [
       "<tr>\n",
       "  <th>Event\n",
       "</th>\n",
       "  <th style=\"width:4em\" class=\"unsortable\">Time\n",
       "</th>\n",
       "  <th class=\"unsortable\">\n",
       "</th>\n",
       "  <th>Name</th>\n",
       "  <th>Nationality</th>\n",
       "  <th>Date</th>\n",
       "  <th>Meet</th>\n",
       "  <th>Location\n",
       "</th>\n",
       "  <th style=\"width:2em\" class=\"unsortable\">Ref\n",
       "</th>\n",
       "</tr>"
      ]
     },
     "execution_count": 24,
     "metadata": {},
     "output_type": "execute_result"
    }
   ],
   "source": [
    "rows[0]"
   ]
  },
  {
   "cell_type": "code",
   "execution_count": 29,
   "metadata": {},
   "outputs": [
    {
     "name": "stdout",
     "output_type": "stream",
     "text": [
      "0 -> 21 rows, 9 columns\n",
      "1 -> 1 rows, 2 columns\n",
      "2 -> 21 rows, 9 columns\n",
      "3 -> 3 rows, 9 columns\n",
      "4 -> 27 rows, 9 columns\n",
      "5 -> 26 rows, 9 columns\n",
      "6 -> 3 rows, 9 columns\n",
      "7 -> 26 rows, 11 columns\n",
      "8 -> 1 rows, 2 columns\n",
      "9 -> 7 rows, 1 columns\n",
      "10 -> 5 rows, 1 columns\n",
      "11 -> 8 rows, 1 columns\n"
     ]
    }
   ],
   "source": [
    "for n, t in enumerate(tables):\n",
    "    rows = t.find(\"tr\", mode=\"all\")\n",
    "    columns = rows[-1].find(\"td\", mode=\"all\")\n",
    "    print(f\"{n} -> {len(rows)} rows, {len(columns)} columns\")"
   ]
  },
  {
   "cell_type": "code",
   "execution_count": 31,
   "metadata": {},
   "outputs": [
    {
     "name": "stdout",
     "output_type": "stream",
     "text": [
      "50m freestyle: 20.91\n",
      "100m freestyle: 46.86\n",
      "200m freestyle: 1:42.00\n",
      "400m freestyle: 3:40.07\n",
      "800m freestyle: 7:32.12\n",
      "1500m freestyle: 14:31.02\n",
      "50m backstroke: 23.55\n",
      "100m backstroke: 51.60\n",
      "200m backstroke: 1:51.92\n",
      "50m breaststroke: 25.95\n",
      "100m breaststroke: 56.88\n",
      "200m breaststroke: 2:05.48\n",
      "50m butterfly: 22.27\n",
      "100m butterfly: 49.45\n",
      "200m butterfly: 1:50.34\n",
      "200m individual medley: 1:54.00\n",
      "400m individual medley: 4:02.50\n",
      "4 × 100 m freestyle relay: 3:08.24\n",
      "4 × 200 m freestyle relay: 6:58.55\n",
      "4 × 100 m medley relay: 3:26.78\n"
     ]
    }
   ],
   "source": [
    "table = tables[0]\n",
    "for row in table.find(\"tr\", mode=\"all\")[1:]:\n",
    "    columns = row.find(\"td\", mode=\"all\")\n",
    "    event = columns[0].text\n",
    "    time = columns[1].text\n",
    "    print(f\"{event} -> {time}\")"
   ]
  },
  {
   "cell_type": "code",
   "execution_count": 32,
   "metadata": {},
   "outputs": [],
   "source": [
    "RECORDS = (0, 2, 4, 5)\n",
    "COURSES = (\"LC Men\", \"LC Women\", \"SC Men\", \"SC Women\")"
   ]
  },
  {
   "cell_type": "code",
   "execution_count": 33,
   "metadata": {},
   "outputs": [
    {
     "data": {
      "text/plain": [
       "[(0, 'LC Men'), (2, 'LC Women'), (4, 'SC Men'), (5, 'SC Women')]"
      ]
     },
     "execution_count": 33,
     "metadata": {},
     "output_type": "execute_result"
    }
   ],
   "source": [
    "list(zip(RECORDS, COURSES))"
   ]
  },
  {
   "cell_type": "code",
   "execution_count": 37,
   "metadata": {},
   "outputs": [
    {
     "name": "stdout",
     "output_type": "stream",
     "text": [
      "LC Men:\n",
      "\t50m freestyle -> 20.91\n",
      "\t100m freestyle -> 46.86\n",
      "\t200m freestyle -> 1:42.00\n",
      "\t400m freestyle -> 3:40.07\n",
      "\t800m freestyle -> 7:32.12\n",
      "\t1500m freestyle -> 14:31.02\n",
      "\t50m backstroke -> 23.55\n",
      "\t100m backstroke -> 51.60\n",
      "\t200m backstroke -> 1:51.92\n",
      "\t50m breaststroke -> 25.95\n",
      "\t100m breaststroke -> 56.88\n",
      "\t200m breaststroke -> 2:05.48\n",
      "\t50m butterfly -> 22.27\n",
      "\t100m butterfly -> 49.45\n",
      "\t200m butterfly -> 1:50.34\n",
      "\t200m individual medley -> 1:54.00\n",
      "\t400m individual medley -> 4:02.50\n",
      "\t4 × 100 m freestyle relay -> 3:08.24\n",
      "\t4 × 200 m freestyle relay -> 6:58.55\n",
      "\t4 × 100 m medley relay -> 3:26.78\n",
      "\n",
      "LC Women:\n",
      "\t50m freestyle -> 23.61\n",
      "\t100m freestyle -> 51.71\n",
      "\t200m freestyle -> 1:52.85\n",
      "\t400m freestyle -> 3:55.38\n",
      "\t800m freestyle -> 8:04.79\n",
      "\t1500m freestyle -> 15:20.48\n",
      "\t50m backstroke -> 26.86\n",
      "\t100m backstroke -> 57.33\n",
      "\t200m backstroke -> 2:03.14\n",
      "\t50m breaststroke -> 29.16\n",
      "\t100m breaststroke -> 1:04.13\n",
      "\t200m breaststroke -> 2:17.55\n",
      "\t50m butterfly -> 24.43\n",
      "\t100m butterfly -> 55.48\n",
      "\t200m butterfly -> 2:01.81\n",
      "\t200m individual medley -> 2:06.12\n",
      "\t400m individual medley -> 4:25.87\n",
      "\t4 × 100 m freestyle relay -> 3:27.96\n",
      "\t4 × 200 m freestyle relay -> 7:37.50\n",
      "\t4 × 100 m medley relay -> 3:50.40\n",
      "\n",
      "SC Men:\n",
      "\t50m freestyle -> 20.16\n",
      "\t100m freestyle -> 44.84\n",
      "\t200m freestyle -> 1:39.37\n",
      "\t400m freestyle -> 3:32.25\n",
      "\t800m freestyle -> 7:20.46\n",
      "\t1500m freestyle -> 14:06.88\n",
      "\t50m backstroke -> 22.11\n",
      "\t100m backstroke -> 48.33\n",
      "\t200m backstroke -> 1:45.63\n",
      "\t50m breaststroke -> 24.95\n",
      "\t100m breaststroke -> 55.28\n",
      "\t200m breaststroke -> 2:00.16\n",
      "\t50m butterfly -> 21.75\n",
      "\t50m butterfly -> 21.75\n",
      "\t100m butterfly -> 47.78\n",
      "\t200m butterfly -> 1:46.85\n",
      "\t100m individual medley -> 49.28\n",
      "\t200m individual medley -> 1:49.63\n",
      "\t400m individual medley -> 3:54.81\n",
      "\t4 × 50 m freestyle relay -> 1:21.80\n",
      "\t4 × 50 m freestyle relay -> 1:20.77\n",
      "\t4 × 100 m freestyle relay -> 3:02.75\n",
      "\t4 × 200 m freestyle relay -> 6:44.12\n",
      "\t4 × 50 m medley relay -> 1:29.72\n",
      "\t4 × 100 m medley relay -> 3:18.98\n",
      "\t4 × 100 m medley relay -> 3:18.98\n",
      "\n",
      "SC Women:\n",
      "\t50m freestyle -> 22.93\n",
      "\t100m freestyle -> 50.25\n",
      "\t200m freestyle -> 1:50.31\n",
      "\t400m freestyle -> 3:51.30\n",
      "\t800m freestyle -> 7:57.42\n",
      "\t1500m freestyle -> 15:08.24\n",
      "\t50m backstroke -> 25.25\n",
      "\t100m backstroke -> 54.89\n",
      "\t200m backstroke -> 1:58.94\n",
      "\t50m breaststroke -> 28.37\n",
      "\t100m breaststroke -> 1:02.36\n",
      "\t100m breaststroke -> 1:02.36\n",
      "\t100m breaststroke -> 1:02.36\n",
      "\t200m breaststroke -> 2:14.57\n",
      "\t50m butterfly -> 24.38\n",
      "\t100m butterfly -> 54.05\n",
      "\t200m butterfly -> 1:59.61\n",
      "\t100m individual medley -> 56.51\n",
      "\t200m individual medley -> 2:01.86\n",
      "\t400m individual medley -> 4:18.94\n",
      "\t4 × 50 m freestyle relay -> 1:32.50\n",
      "\t4 × 100 m freestyle relay -> 3:25.43\n",
      "\t4 × 200 m freestyle relay -> 7:30.87\n",
      "\t4 × 50 m medley relay -> 1:42.35\n",
      "\t4 × 100 m medley relay -> 3:44.35\n",
      "\n"
     ]
    }
   ],
   "source": [
    "for table, course in zip(RECORDS, COURSES):\n",
    "    print(f\"{course}:\")\n",
    "    for row in tables[table].find(\"tr\", mode=\"all\")[1:]:\n",
    "        columns = row.find(\"td\", mode=\"all\")\n",
    "        event = columns[0].text\n",
    "        time = columns[1].text\n",
    "        print(f\"\\t{event} -> {time}\")\n",
    "    print()\n",
    "    "
   ]
  },
  {
   "cell_type": "code",
   "execution_count": null,
   "metadata": {},
   "outputs": [],
   "source": []
  }
 ],
 "metadata": {
  "kernelspec": {
   "display_name": "Python 3",
   "language": "python",
   "name": "python3"
  },
  "language_info": {
   "codemirror_mode": {
    "name": "ipython",
    "version": 3
   },
   "file_extension": ".py",
   "mimetype": "text/x-python",
   "name": "python",
   "nbconvert_exporter": "python",
   "pygments_lexer": "ipython3",
   "version": "3.11.6"
  }
 },
 "nbformat": 4,
 "nbformat_minor": 2
}
