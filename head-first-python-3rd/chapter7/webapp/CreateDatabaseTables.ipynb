{
 "cells": [
  {
   "cell_type": "code",
   "execution_count": 1,
   "metadata": {},
   "outputs": [
    {
     "name": "stdout",
     "output_type": "stream",
     "text": [
      "Requirement already satisfied: DBcm in /usr/local/lib/python3.11/site-packages (2.1)\n",
      "Requirement already satisfied: mysql-connector-python in /usr/local/lib/python3.11/site-packages (from DBcm) (8.3.0)\n",
      "\n",
      "\u001b[1m[\u001b[0m\u001b[34;49mnotice\u001b[0m\u001b[1;39;49m]\u001b[0m\u001b[39;49m A new release of pip is available: \u001b[0m\u001b[31;49m23.3.1\u001b[0m\u001b[39;49m -> \u001b[0m\u001b[32;49m23.3.2\u001b[0m\n",
      "\u001b[1m[\u001b[0m\u001b[34;49mnotice\u001b[0m\u001b[1;39;49m]\u001b[0m\u001b[39;49m To update, run: \u001b[0m\u001b[32;49mpython3.11 -m pip install --upgrade pip\u001b[0m\n",
      "Note: you may need to restart the kernel to use updated packages.\n"
     ]
    }
   ],
   "source": [
    "%pip install DBcm --upgrade"
   ]
  },
  {
   "cell_type": "code",
   "execution_count": 2,
   "metadata": {},
   "outputs": [],
   "source": [
    "import DBcm"
   ]
  },
  {
   "cell_type": "code",
   "execution_count": 3,
   "metadata": {},
   "outputs": [],
   "source": [
    "db_details = \"CoachDB.sqlite3\""
   ]
  },
  {
   "cell_type": "code",
   "execution_count": 4,
   "metadata": {},
   "outputs": [],
   "source": [
    "with DBcm.UseDatabase(db_details) as db:\n",
    "    db.execute(\"pragma table_list\")\n",
    "    results = db.fetchall()"
   ]
  },
  {
   "cell_type": "code",
   "execution_count": 5,
   "metadata": {},
   "outputs": [
    {
     "data": {
      "text/plain": [
       "[('main', 'sqlite_schema', 'table', 5, 0, 0),\n",
       " ('temp', 'sqlite_temp_schema', 'table', 5, 0, 0)]"
      ]
     },
     "execution_count": 5,
     "metadata": {},
     "output_type": "execute_result"
    }
   ],
   "source": [
    "results"
   ]
  },
  {
   "cell_type": "code",
   "execution_count": 6,
   "metadata": {},
   "outputs": [
    {
     "data": {
      "text/plain": [
       "('07:54:05',)"
      ]
     },
     "execution_count": 6,
     "metadata": {},
     "output_type": "execute_result"
    }
   ],
   "source": [
    "SQL = \"\"\"\n",
    "    select time()\n",
    "\"\"\"\n",
    "\n",
    "with DBcm.UseDatabase(db_details) as db:\n",
    "    db.execute(SQL)\n",
    "    results = db.fetchone()\n",
    "results"
   ]
  },
  {
   "cell_type": "code",
   "execution_count": 7,
   "metadata": {},
   "outputs": [],
   "source": [
    "SQL = \"\"\"\n",
    "    create table if not exists swimmers (\n",
    "        id integer not null primary key autoincrement,\n",
    "        name varchar(32) not null,\n",
    "        age integer not null\n",
    "    )\n",
    "\"\"\"\n",
    "\n",
    "with DBcm.UseDatabase(db_details) as db:\n",
    "    db.execute(SQL)"
   ]
  },
  {
   "cell_type": "code",
   "execution_count": 8,
   "metadata": {},
   "outputs": [
    {
     "data": {
      "text/plain": [
       "[('main', 'sqlite_sequence', 'table', 2, 0, 0),\n",
       " ('main', 'swimmers', 'table', 3, 0, 0),\n",
       " ('main', 'sqlite_schema', 'table', 5, 0, 0),\n",
       " ('temp', 'sqlite_temp_schema', 'table', 5, 0, 0)]"
      ]
     },
     "execution_count": 8,
     "metadata": {},
     "output_type": "execute_result"
    }
   ],
   "source": [
    "with DBcm.UseDatabase(db_details) as db:\n",
    "    db.execute(\"pragma table_list\")\n",
    "    results = db.fetchall()\n",
    "results"
   ]
  },
  {
   "cell_type": "code",
   "execution_count": 10,
   "metadata": {},
   "outputs": [],
   "source": [
    "with DBcm.UseDatabase(db_details) as db:\n",
    "    SQL_1 = \"\"\"\n",
    "        create table if not exists events (\n",
    "            id integer not null primary key autoincrement,\n",
    "            distance varchar(16) not null,\n",
    "            stroke varchar(16) not null\n",
    "        )\n",
    "    \"\"\"\n",
    "    SQL_2 = \"\"\"\n",
    "        create table if not exists times (\n",
    "            swimmer_id integer not null,\n",
    "            event_id integer not null,\n",
    "            time varchar(16) not null,\n",
    "            ts timestamp default current_timestamp\n",
    "        )\n",
    "    \"\"\"\n",
    "    db.execute(SQL_1)\n",
    "    db.execute(SQL_2)"
   ]
  },
  {
   "cell_type": "code",
   "execution_count": 11,
   "metadata": {},
   "outputs": [
    {
     "data": {
      "text/plain": [
       "[('main', 'times', 'table', 4, 0, 0),\n",
       " ('main', 'events', 'table', 3, 0, 0),\n",
       " ('main', 'sqlite_sequence', 'table', 2, 0, 0),\n",
       " ('main', 'swimmers', 'table', 3, 0, 0),\n",
       " ('main', 'sqlite_schema', 'table', 5, 0, 0),\n",
       " ('temp', 'sqlite_temp_schema', 'table', 5, 0, 0)]"
      ]
     },
     "execution_count": 11,
     "metadata": {},
     "output_type": "execute_result"
    }
   ],
   "source": [
    "with DBcm.UseDatabase(db_details) as db:\n",
    "    db.execute(\"pragma table_list\")\n",
    "    results = db.fetchall()\n",
    "results"
   ]
  },
  {
   "cell_type": "code",
   "execution_count": null,
   "metadata": {},
   "outputs": [],
   "source": []
  }
 ],
 "metadata": {
  "kernelspec": {
   "display_name": "Python 3",
   "language": "python",
   "name": "python3"
  },
  "language_info": {
   "codemirror_mode": {
    "name": "ipython",
    "version": 3
   },
   "file_extension": ".py",
   "mimetype": "text/x-python",
   "name": "python",
   "nbconvert_exporter": "python",
   "pygments_lexer": "ipython3",
   "version": "3.11.6"
  }
 },
 "nbformat": 4,
 "nbformat_minor": 2
}
